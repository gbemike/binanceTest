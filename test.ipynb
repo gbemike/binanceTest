{
 "cells": [
  {
   "cell_type": "code",
   "execution_count": 41,
   "metadata": {},
   "outputs": [],
   "source": [
    "import requests\n",
    "import pandas as pd\n",
    "from datetime import datetime\n",
    "import matplotlib.pyplot as plt"
   ]
  },
  {
   "cell_type": "code",
   "execution_count": 42,
   "metadata": {},
   "outputs": [],
   "source": [
    "df = pd.read_csv(\"USDT_NGN rates.csv\", parse_dates=['Date'], index_col='Date')  # Assuming 'Date' is the index"
   ]
  },
  {
   "cell_type": "code",
   "execution_count": 43,
   "metadata": {},
   "outputs": [
    {
     "data": {
      "text/html": [
       "<div>\n",
       "<style scoped>\n",
       "    .dataframe tbody tr th:only-of-type {\n",
       "        vertical-align: middle;\n",
       "    }\n",
       "\n",
       "    .dataframe tbody tr th {\n",
       "        vertical-align: top;\n",
       "    }\n",
       "\n",
       "    .dataframe thead th {\n",
       "        text-align: right;\n",
       "    }\n",
       "</style>\n",
       "<table border=\"1\" class=\"dataframe\">\n",
       "  <thead>\n",
       "    <tr style=\"text-align: right;\">\n",
       "      <th></th>\n",
       "      <th>open</th>\n",
       "      <th>high</th>\n",
       "      <th>low</th>\n",
       "      <th>close</th>\n",
       "    </tr>\n",
       "    <tr>\n",
       "      <th>Date</th>\n",
       "      <th></th>\n",
       "      <th></th>\n",
       "      <th></th>\n",
       "      <th></th>\n",
       "    </tr>\n",
       "  </thead>\n",
       "  <tbody>\n",
       "    <tr>\n",
       "      <th>2023-11-13 16:00:00</th>\n",
       "      <td>1096.4</td>\n",
       "      <td>1096.4</td>\n",
       "      <td>1096.4</td>\n",
       "      <td>1096.4</td>\n",
       "    </tr>\n",
       "    <tr>\n",
       "      <th>2023-11-13 17:00:00</th>\n",
       "      <td>NaN</td>\n",
       "      <td>NaN</td>\n",
       "      <td>NaN</td>\n",
       "      <td>NaN</td>\n",
       "    </tr>\n",
       "    <tr>\n",
       "      <th>2023-11-13 18:00:00</th>\n",
       "      <td>NaN</td>\n",
       "      <td>NaN</td>\n",
       "      <td>NaN</td>\n",
       "      <td>NaN</td>\n",
       "    </tr>\n",
       "    <tr>\n",
       "      <th>2023-11-13 19:00:00</th>\n",
       "      <td>NaN</td>\n",
       "      <td>NaN</td>\n",
       "      <td>NaN</td>\n",
       "      <td>NaN</td>\n",
       "    </tr>\n",
       "    <tr>\n",
       "      <th>2023-11-13 20:00:00</th>\n",
       "      <td>1106.2</td>\n",
       "      <td>1109.9</td>\n",
       "      <td>1106.2</td>\n",
       "      <td>1106.5</td>\n",
       "    </tr>\n",
       "  </tbody>\n",
       "</table>\n",
       "</div>"
      ],
      "text/plain": [
       "                       open    high     low   close\n",
       "Date                                               \n",
       "2023-11-13 16:00:00  1096.4  1096.4  1096.4  1096.4\n",
       "2023-11-13 17:00:00     NaN     NaN     NaN     NaN\n",
       "2023-11-13 18:00:00     NaN     NaN     NaN     NaN\n",
       "2023-11-13 19:00:00     NaN     NaN     NaN     NaN\n",
       "2023-11-13 20:00:00  1106.2  1109.9  1106.2  1106.5"
      ]
     },
     "execution_count": 43,
     "metadata": {},
     "output_type": "execute_result"
    }
   ],
   "source": [
    "df.head()"
   ]
  },
  {
   "cell_type": "code",
   "execution_count": 44,
   "metadata": {},
   "outputs": [
    {
     "name": "stdout",
     "output_type": "stream",
     "text": [
      "<class 'pandas.core.frame.DataFrame'>\n",
      "DatetimeIndex: 214 entries, 2023-11-13 16:00:00 to 2023-11-15 21:00:00\n",
      "Data columns (total 4 columns):\n",
      " #   Column  Non-Null Count  Dtype  \n",
      "---  ------  --------------  -----  \n",
      " 0   open    87 non-null     float64\n",
      " 1   high    87 non-null     float64\n",
      " 2   low     87 non-null     float64\n",
      " 3   close   87 non-null     float64\n",
      "dtypes: float64(4)\n",
      "memory usage: 8.4 KB\n"
     ]
    }
   ],
   "source": [
    "df.info()"
   ]
  },
  {
   "cell_type": "code",
   "execution_count": 45,
   "metadata": {},
   "outputs": [],
   "source": [
    "df['Date'] = df.index\n",
    "df['BarColor'] = df[['open', 'close']].apply(lambda x: 'red' if x.open > x.close else 'green', axis=1)\n",
    "#df['DateStr'] = df.Date.astype(str) "
   ]
  },
  {
   "cell_type": "code",
   "execution_count": 50,
   "metadata": {},
   "outputs": [],
   "source": [
    "df['Date'] = df.Date.values"
   ]
  },
  {
   "cell_type": "code",
   "execution_count": 51,
   "metadata": {},
   "outputs": [
    {
     "data": {
      "text/html": [
       "<div>\n",
       "<style scoped>\n",
       "    .dataframe tbody tr th:only-of-type {\n",
       "        vertical-align: middle;\n",
       "    }\n",
       "\n",
       "    .dataframe tbody tr th {\n",
       "        vertical-align: top;\n",
       "    }\n",
       "\n",
       "    .dataframe thead th {\n",
       "        text-align: right;\n",
       "    }\n",
       "</style>\n",
       "<table border=\"1\" class=\"dataframe\">\n",
       "  <thead>\n",
       "    <tr style=\"text-align: right;\">\n",
       "      <th></th>\n",
       "      <th>open</th>\n",
       "      <th>high</th>\n",
       "      <th>low</th>\n",
       "      <th>close</th>\n",
       "      <th>Date</th>\n",
       "      <th>BarColor</th>\n",
       "    </tr>\n",
       "    <tr>\n",
       "      <th>Date</th>\n",
       "      <th></th>\n",
       "      <th></th>\n",
       "      <th></th>\n",
       "      <th></th>\n",
       "      <th></th>\n",
       "      <th></th>\n",
       "    </tr>\n",
       "  </thead>\n",
       "  <tbody>\n",
       "    <tr>\n",
       "      <th>2023-11-13 16:00:00</th>\n",
       "      <td>1096.4</td>\n",
       "      <td>1096.4</td>\n",
       "      <td>1096.4</td>\n",
       "      <td>1096.4</td>\n",
       "      <td>2023-11-13 16:00:00</td>\n",
       "      <td>green</td>\n",
       "    </tr>\n",
       "    <tr>\n",
       "      <th>2023-11-13 17:00:00</th>\n",
       "      <td>NaN</td>\n",
       "      <td>NaN</td>\n",
       "      <td>NaN</td>\n",
       "      <td>NaN</td>\n",
       "      <td>2023-11-13 17:00:00</td>\n",
       "      <td>green</td>\n",
       "    </tr>\n",
       "    <tr>\n",
       "      <th>2023-11-13 18:00:00</th>\n",
       "      <td>NaN</td>\n",
       "      <td>NaN</td>\n",
       "      <td>NaN</td>\n",
       "      <td>NaN</td>\n",
       "      <td>2023-11-13 18:00:00</td>\n",
       "      <td>green</td>\n",
       "    </tr>\n",
       "    <tr>\n",
       "      <th>2023-11-13 19:00:00</th>\n",
       "      <td>NaN</td>\n",
       "      <td>NaN</td>\n",
       "      <td>NaN</td>\n",
       "      <td>NaN</td>\n",
       "      <td>2023-11-13 19:00:00</td>\n",
       "      <td>green</td>\n",
       "    </tr>\n",
       "    <tr>\n",
       "      <th>2023-11-13 20:00:00</th>\n",
       "      <td>1106.2</td>\n",
       "      <td>1109.9</td>\n",
       "      <td>1106.2</td>\n",
       "      <td>1106.5</td>\n",
       "      <td>2023-11-13 20:00:00</td>\n",
       "      <td>green</td>\n",
       "    </tr>\n",
       "  </tbody>\n",
       "</table>\n",
       "</div>"
      ],
      "text/plain": [
       "                       open    high     low   close                Date  \\\n",
       "Date                                                                      \n",
       "2023-11-13 16:00:00  1096.4  1096.4  1096.4  1096.4 2023-11-13 16:00:00   \n",
       "2023-11-13 17:00:00     NaN     NaN     NaN     NaN 2023-11-13 17:00:00   \n",
       "2023-11-13 18:00:00     NaN     NaN     NaN     NaN 2023-11-13 18:00:00   \n",
       "2023-11-13 19:00:00     NaN     NaN     NaN     NaN 2023-11-13 19:00:00   \n",
       "2023-11-13 20:00:00  1106.2  1109.9  1106.2  1106.5 2023-11-13 20:00:00   \n",
       "\n",
       "                    BarColor  \n",
       "Date                          \n",
       "2023-11-13 16:00:00    green  \n",
       "2023-11-13 17:00:00    green  \n",
       "2023-11-13 18:00:00    green  \n",
       "2023-11-13 19:00:00    green  \n",
       "2023-11-13 20:00:00    green  "
      ]
     },
     "execution_count": 51,
     "metadata": {},
     "output_type": "execute_result"
    }
   ],
   "source": [
    "df.head()"
   ]
  },
  {
   "cell_type": "code",
   "execution_count": 48,
   "metadata": {},
   "outputs": [
    {
     "name": "stderr",
     "output_type": "stream",
     "text": [
      "C:\\Users\\Gbemike\\AppData\\Local\\Temp\\ipykernel_18972\\84585278.py:1: FutureWarning: Series.__getitem__ treating keys as positions is deprecated. In a future version, integer keys will always be treated as labels (consistent with DataFrame behavior). To access a value by position, use `ser.iloc[pos]`\n",
      "  df['Date'][-1]\n"
     ]
    },
    {
     "data": {
      "text/plain": [
       "Timestamp('2023-11-15 21:00:00')"
      ]
     },
     "execution_count": 48,
     "metadata": {},
     "output_type": "execute_result"
    }
   ],
   "source": [
    "df['Date'][-1]"
   ]
  },
  {
   "cell_type": "code",
   "execution_count": 52,
   "metadata": {},
   "outputs": [],
   "source": [
    "def load_dataset():\n",
    "    df = pd.read_csv(\"USDT_NGN rates.csv\", parse_dates=True)\n",
    "    df['Date'] = pd.to_datetime(df['Date'])\n",
    "\n",
    "    return df\n",
    "\n",
    "original_df = load_dataset()"
   ]
  },
  {
   "cell_type": "code",
   "execution_count": 55,
   "metadata": {},
   "outputs": [
    {
     "data": {
      "text/plain": [
       "0     2023-11-13 16:00:00\n",
       "1     2023-11-13 17:00:00\n",
       "2     2023-11-13 18:00:00\n",
       "3     2023-11-13 19:00:00\n",
       "4     2023-11-13 20:00:00\n",
       "              ...        \n",
       "209   2023-11-15 17:00:00\n",
       "210   2023-11-15 18:00:00\n",
       "211   2023-11-15 19:00:00\n",
       "212   2023-11-15 20:00:00\n",
       "213   2023-11-15 21:00:00\n",
       "Name: Date, Length: 214, dtype: datetime64[ns]"
      ]
     },
     "execution_count": 55,
     "metadata": {},
     "output_type": "execute_result"
    }
   ],
   "source": [
    "original_df.Date"
   ]
  },
  {
   "cell_type": "code",
   "execution_count": null,
   "metadata": {},
   "outputs": [],
   "source": [
    "df.head()"
   ]
  },
  {
   "cell_type": "code",
   "execution_count": null,
   "metadata": {},
   "outputs": [],
   "source": [
    "df['BarColor'].value_counts()"
   ]
  },
  {
   "cell_type": "code",
   "execution_count": null,
   "metadata": {},
   "outputs": [],
   "source": [
    "df.info()"
   ]
  },
  {
   "cell_type": "code",
   "execution_count": null,
   "metadata": {},
   "outputs": [],
   "source": [
    "df['Date'][0]"
   ]
  },
  {
   "cell_type": "code",
   "execution_count": null,
   "metadata": {},
   "outputs": [],
   "source": [
    "df['Date'] = pd.to_datetime(df['Date'], format='%Y-%m-%d %H:%M:%S')"
   ]
  },
  {
   "cell_type": "code",
   "execution_count": 57,
   "metadata": {},
   "outputs": [],
   "source": [
    "import json"
   ]
  },
  {
   "cell_type": "code",
   "execution_count": 68,
   "metadata": {},
   "outputs": [],
   "source": [
    "symbols = 'USDTNGN'\n",
    "endpoint = f'https://api.binance.com/api/v3/ticker/price?symbol={symbols}'\n",
    "\n",
    "response = requests.get(endpoint)\n",
    "data = response.json()\n",
    "with open(\"data.json\", \"w\") as f:\n",
    "    json.dump(data, f)"
   ]
  },
  {
   "cell_type": "code",
   "execution_count": null,
   "metadata": {},
   "outputs": [],
   "source": [
    "#os.makedirs(\"data\", exist_ok=True)\n"
   ]
  },
  {
   "cell_type": "code",
   "execution_count": 1,
   "metadata": {},
   "outputs": [],
   "source": [
    "import requests\n",
    "import pandas as pd\n",
    "from datetime import datetime\n",
    "import matplotlib.pyplot as plt\n",
    "\n",
    "df = pd.read_csv('binance_data.csv')\n",
    "df['Date'] = pd.to_datetime(df['Date'], format='mixed')\n",
    "df = df.set_index('Date')\n",
    "#ohlc_df = df['Price'].resample('15M').ohlc()\n",
    "ohlc_df = df.resample('15T').agg({'Price': 'ohlc'})\n",
    "ohlc_df.to_csv('test.csv', mode='a', header=False)"
   ]
  }
 ],
 "metadata": {
  "kernelspec": {
   "display_name": "env",
   "language": "python",
   "name": "python3"
  },
  "language_info": {
   "codemirror_mode": {
    "name": "ipython",
    "version": 3
   },
   "file_extension": ".py",
   "mimetype": "text/x-python",
   "name": "python",
   "nbconvert_exporter": "python",
   "pygments_lexer": "ipython3",
   "version": "3.11.4"
  }
 },
 "nbformat": 4,
 "nbformat_minor": 2
}
